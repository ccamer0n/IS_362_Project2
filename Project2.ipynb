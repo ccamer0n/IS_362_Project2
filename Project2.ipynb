{
 "cells": [
  {
   "cell_type": "markdown",
   "id": "66c0f79a",
   "metadata": {},
   "source": [
    "## Project 2\n",
    "\n",
    "In this project we will focus on tidying data to prepare it for analysis."
   ]
  },
  {
   "cell_type": "code",
   "execution_count": 1,
   "id": "573abbf5",
   "metadata": {},
   "outputs": [],
   "source": [
    "import pandas as pd"
   ]
  },
  {
   "cell_type": "markdown",
   "id": "f049f002",
   "metadata": {},
   "source": [
    "After importing pandas, we will read the following .csv files into DataFrame objects:"
   ]
  },
  {
   "cell_type": "code",
   "execution_count": 2,
   "id": "df9fbe63",
   "metadata": {},
   "outputs": [],
   "source": [
    "birthdays = pd.read_csv(\"C:/Users/cscam/birthdays.csv\")\n",
    "party_accessories = pd.read_csv(\"C:/Users/cscam/party_accessories.csv\")\n",
    "venues = pd.read_csv(\"C:/Users/cscam/venue.csv\")"
   ]
  },
  {
   "cell_type": "markdown",
   "id": "913e3575",
   "metadata": {},
   "source": [
    "The three datasets are part of a party planning database and contain children's birthdays, optional venues, and accessories that need to be ordered."
   ]
  },
  {
   "cell_type": "code",
   "execution_count": 4,
   "id": "e078a44b",
   "metadata": {},
   "outputs": [
    {
     "data": {
      "text/html": [
       "<div>\n",
       "<style scoped>\n",
       "    .dataframe tbody tr th:only-of-type {\n",
       "        vertical-align: middle;\n",
       "    }\n",
       "\n",
       "    .dataframe tbody tr th {\n",
       "        vertical-align: top;\n",
       "    }\n",
       "\n",
       "    .dataframe thead th {\n",
       "        text-align: right;\n",
       "    }\n",
       "</style>\n",
       "<table border=\"1\" class=\"dataframe\">\n",
       "  <thead>\n",
       "    <tr style=\"text-align: right;\">\n",
       "      <th></th>\n",
       "      <th>Name</th>\n",
       "      <th>Birthday</th>\n",
       "      <th>Favorite Dessert</th>\n",
       "    </tr>\n",
       "  </thead>\n",
       "  <tbody>\n",
       "    <tr>\n",
       "      <th>0</th>\n",
       "      <td>Peter</td>\n",
       "      <td>1/28/2014</td>\n",
       "      <td>chocolate cake</td>\n",
       "    </tr>\n",
       "    <tr>\n",
       "      <th>1</th>\n",
       "      <td>Jane</td>\n",
       "      <td>5/14/2017</td>\n",
       "      <td>vanilla cupcakes</td>\n",
       "    </tr>\n",
       "    <tr>\n",
       "      <th>2</th>\n",
       "      <td>Mary</td>\n",
       "      <td>September 5, 2015</td>\n",
       "      <td>strawberry ice cream</td>\n",
       "    </tr>\n",
       "  </tbody>\n",
       "</table>\n",
       "</div>"
      ],
      "text/plain": [
       "    Name           Birthday      Favorite Dessert\n",
       "0  Peter          1/28/2014        chocolate cake\n",
       "1   Jane          5/14/2017      vanilla cupcakes\n",
       "2   Mary  September 5, 2015  strawberry ice cream"
      ]
     },
     "execution_count": 4,
     "metadata": {},
     "output_type": "execute_result"
    }
   ],
   "source": [
    "birthdays"
   ]
  },
  {
   "cell_type": "code",
   "execution_count": 29,
   "id": "d742a216",
   "metadata": {},
   "outputs": [
    {
     "data": {
      "text/html": [
       "<div>\n",
       "<style scoped>\n",
       "    .dataframe tbody tr th:only-of-type {\n",
       "        vertical-align: middle;\n",
       "    }\n",
       "\n",
       "    .dataframe tbody tr th {\n",
       "        vertical-align: top;\n",
       "    }\n",
       "\n",
       "    .dataframe thead th {\n",
       "        text-align: right;\n",
       "    }\n",
       "</style>\n",
       "<table border=\"1\" class=\"dataframe\">\n",
       "  <thead>\n",
       "    <tr style=\"text-align: right;\">\n",
       "      <th></th>\n",
       "      <th>Item</th>\n",
       "      <th>Quantity</th>\n",
       "      <th>Color</th>\n",
       "    </tr>\n",
       "  </thead>\n",
       "  <tbody>\n",
       "    <tr>\n",
       "      <th>0</th>\n",
       "      <td>red balloons</td>\n",
       "      <td>5.0</td>\n",
       "      <td>NaN</td>\n",
       "    </tr>\n",
       "    <tr>\n",
       "      <th>1</th>\n",
       "      <td>streamers</td>\n",
       "      <td>10.0</td>\n",
       "      <td>silver</td>\n",
       "    </tr>\n",
       "    <tr>\n",
       "      <th>2</th>\n",
       "      <td>10 candles</td>\n",
       "      <td>NaN</td>\n",
       "      <td>assorted</td>\n",
       "    </tr>\n",
       "    <tr>\n",
       "      <th>3</th>\n",
       "      <td>NaN</td>\n",
       "      <td>NaN</td>\n",
       "      <td>NaN</td>\n",
       "    </tr>\n",
       "    <tr>\n",
       "      <th>4</th>\n",
       "      <td>NaN</td>\n",
       "      <td>NaN</td>\n",
       "      <td>NaN</td>\n",
       "    </tr>\n",
       "    <tr>\n",
       "      <th>5</th>\n",
       "      <td>NaN</td>\n",
       "      <td>NaN</td>\n",
       "      <td>NaN</td>\n",
       "    </tr>\n",
       "    <tr>\n",
       "      <th>6</th>\n",
       "      <td>NaN</td>\n",
       "      <td>NaN</td>\n",
       "      <td>NaN</td>\n",
       "    </tr>\n",
       "    <tr>\n",
       "      <th>7</th>\n",
       "      <td>NaN</td>\n",
       "      <td>NaN</td>\n",
       "      <td>NaN</td>\n",
       "    </tr>\n",
       "    <tr>\n",
       "      <th>8</th>\n",
       "      <td>NaN</td>\n",
       "      <td>NaN</td>\n",
       "      <td>NaN</td>\n",
       "    </tr>\n",
       "    <tr>\n",
       "      <th>9</th>\n",
       "      <td>NaN</td>\n",
       "      <td>NaN</td>\n",
       "      <td>NaN</td>\n",
       "    </tr>\n",
       "    <tr>\n",
       "      <th>10</th>\n",
       "      <td>NaN</td>\n",
       "      <td>NaN</td>\n",
       "      <td>NaN</td>\n",
       "    </tr>\n",
       "    <tr>\n",
       "      <th>11</th>\n",
       "      <td>NaN</td>\n",
       "      <td>NaN</td>\n",
       "      <td>NaN</td>\n",
       "    </tr>\n",
       "    <tr>\n",
       "      <th>12</th>\n",
       "      <td>NaN</td>\n",
       "      <td>NaN</td>\n",
       "      <td>NaN</td>\n",
       "    </tr>\n",
       "    <tr>\n",
       "      <th>13</th>\n",
       "      <td>NaN</td>\n",
       "      <td>NaN</td>\n",
       "      <td>NaN</td>\n",
       "    </tr>\n",
       "    <tr>\n",
       "      <th>14</th>\n",
       "      <td>NaN</td>\n",
       "      <td>NaN</td>\n",
       "      <td>NaN</td>\n",
       "    </tr>\n",
       "    <tr>\n",
       "      <th>15</th>\n",
       "      <td>NaN</td>\n",
       "      <td>NaN</td>\n",
       "      <td>NaN</td>\n",
       "    </tr>\n",
       "    <tr>\n",
       "      <th>16</th>\n",
       "      <td>NaN</td>\n",
       "      <td>NaN</td>\n",
       "      <td>NaN</td>\n",
       "    </tr>\n",
       "    <tr>\n",
       "      <th>17</th>\n",
       "      <td>NaN</td>\n",
       "      <td>NaN</td>\n",
       "      <td>NaN</td>\n",
       "    </tr>\n",
       "  </tbody>\n",
       "</table>\n",
       "</div>"
      ],
      "text/plain": [
       "            Item  Quantity     Color\n",
       "0   red balloons       5.0       NaN\n",
       "1      streamers      10.0    silver\n",
       "2     10 candles       NaN  assorted\n",
       "3            NaN       NaN       NaN\n",
       "4            NaN       NaN       NaN\n",
       "5            NaN       NaN       NaN\n",
       "6            NaN       NaN       NaN\n",
       "7            NaN       NaN       NaN\n",
       "8            NaN       NaN       NaN\n",
       "9            NaN       NaN       NaN\n",
       "10           NaN       NaN       NaN\n",
       "11           NaN       NaN       NaN\n",
       "12           NaN       NaN       NaN\n",
       "13           NaN       NaN       NaN\n",
       "14           NaN       NaN       NaN\n",
       "15           NaN       NaN       NaN\n",
       "16           NaN       NaN       NaN\n",
       "17           NaN       NaN       NaN"
      ]
     },
     "execution_count": 29,
     "metadata": {},
     "output_type": "execute_result"
    }
   ],
   "source": [
    "party_accessories"
   ]
  },
  {
   "cell_type": "code",
   "execution_count": 7,
   "id": "e38d3f1b",
   "metadata": {},
   "outputs": [
    {
     "data": {
      "text/html": [
       "<div>\n",
       "<style scoped>\n",
       "    .dataframe tbody tr th:only-of-type {\n",
       "        vertical-align: middle;\n",
       "    }\n",
       "\n",
       "    .dataframe tbody tr th {\n",
       "        vertical-align: top;\n",
       "    }\n",
       "\n",
       "    .dataframe thead th {\n",
       "        text-align: right;\n",
       "    }\n",
       "</style>\n",
       "<table border=\"1\" class=\"dataframe\">\n",
       "  <thead>\n",
       "    <tr style=\"text-align: right;\">\n",
       "      <th></th>\n",
       "      <th>Venue</th>\n",
       "      <th>Size</th>\n",
       "      <th>Price</th>\n",
       "    </tr>\n",
       "  </thead>\n",
       "  <tbody>\n",
       "    <tr>\n",
       "      <th>0</th>\n",
       "      <td>Wild World</td>\n",
       "      <td>4000 sq. ft.</td>\n",
       "      <td>$1,000</td>\n",
       "    </tr>\n",
       "    <tr>\n",
       "      <th>1</th>\n",
       "      <td>Fun Zone</td>\n",
       "      <td>40' x 60'</td>\n",
       "      <td>$800</td>\n",
       "    </tr>\n",
       "    <tr>\n",
       "      <th>2</th>\n",
       "      <td>Party Plus</td>\n",
       "      <td>3000 sq. ft.</td>\n",
       "      <td>$900</td>\n",
       "    </tr>\n",
       "  </tbody>\n",
       "</table>\n",
       "</div>"
      ],
      "text/plain": [
       "        Venue          Size    Price\n",
       "0  Wild World  4000 sq. ft.  $1,000 \n",
       "1    Fun Zone     40' x 60'    $800 \n",
       "2  Party Plus  3000 sq. ft.    $900 "
      ]
     },
     "execution_count": 7,
     "metadata": {},
     "output_type": "execute_result"
    }
   ],
   "source": [
    "venues"
   ]
  },
  {
   "cell_type": "markdown",
   "id": "d2dfd710",
   "metadata": {},
   "source": [
    "As we can see, there are a number of issues that prevent us from performing useful analysis on the data. Let's begin with the **birthdays** dataFrame.\n",
    "\n",
    "There are two things that can be fixed here:"
   ]
  },
  {
   "cell_type": "code",
   "execution_count": 79,
   "id": "977f80ed",
   "metadata": {},
   "outputs": [
    {
     "data": {
      "text/html": [
       "<div>\n",
       "<style scoped>\n",
       "    .dataframe tbody tr th:only-of-type {\n",
       "        vertical-align: middle;\n",
       "    }\n",
       "\n",
       "    .dataframe tbody tr th {\n",
       "        vertical-align: top;\n",
       "    }\n",
       "\n",
       "    .dataframe thead th {\n",
       "        text-align: right;\n",
       "    }\n",
       "</style>\n",
       "<table border=\"1\" class=\"dataframe\">\n",
       "  <thead>\n",
       "    <tr style=\"text-align: right;\">\n",
       "      <th></th>\n",
       "      <th>Name</th>\n",
       "      <th>Birthday</th>\n",
       "      <th>Favorite Dessert</th>\n",
       "      <th>Favorite Flavor</th>\n",
       "    </tr>\n",
       "  </thead>\n",
       "  <tbody>\n",
       "    <tr>\n",
       "      <th>0</th>\n",
       "      <td>Peter</td>\n",
       "      <td>January 28, 2014</td>\n",
       "      <td>cake</td>\n",
       "      <td>chocolate</td>\n",
       "    </tr>\n",
       "    <tr>\n",
       "      <th>1</th>\n",
       "      <td>Jane</td>\n",
       "      <td>May 14, 2017</td>\n",
       "      <td>cupcakes</td>\n",
       "      <td>vanilla</td>\n",
       "    </tr>\n",
       "    <tr>\n",
       "      <th>2</th>\n",
       "      <td>Mary</td>\n",
       "      <td>September 5, 2015</td>\n",
       "      <td>ice cream</td>\n",
       "      <td>strawberry</td>\n",
       "    </tr>\n",
       "  </tbody>\n",
       "</table>\n",
       "</div>"
      ],
      "text/plain": [
       "    Name           Birthday Favorite Dessert Favorite Flavor\n",
       "0  Peter   January 28, 2014             cake       chocolate\n",
       "1   Jane       May 14, 2017         cupcakes         vanilla\n",
       "2   Mary  September 5, 2015        ice cream      strawberry"
      ]
     },
     "execution_count": 79,
     "metadata": {},
     "output_type": "execute_result"
    }
   ],
   "source": [
    "#match formatting of dates in the birthdays column:\n",
    "tidy_birthdays = birthdays.replace({'Birthday':'1/28/2014'}, 'January 28, 2014')\n",
    "tidy_birthdays = tidy_birthdays.replace({'Birthday':'5/14/2017'}, 'May 14, 2017')\n",
    "\n",
    "#separate values in the 'favorite dessert' column by adding an additional column for favorite flavor:\n",
    "favorite_flavors = ['chocolate', 'vanilla', 'strawberry']\n",
    "favorite_dessert = ['cake', 'cupcakes', 'ice cream']\n",
    "tidy_birthdays['Favorite Flavor'] = favorite_flavors\n",
    "tidy_birthdays['Favorite Dessert'] = favorite_dessert\n",
    "tidy_birthdays"
   ]
  },
  {
   "cell_type": "markdown",
   "id": "18b52a31",
   "metadata": {},
   "source": [
    "Now let's look at the **party accessories** dataFrame:"
   ]
  },
  {
   "cell_type": "code",
   "execution_count": 81,
   "id": "4df1a4ec",
   "metadata": {},
   "outputs": [
    {
     "data": {
      "text/html": [
       "<div>\n",
       "<style scoped>\n",
       "    .dataframe tbody tr th:only-of-type {\n",
       "        vertical-align: middle;\n",
       "    }\n",
       "\n",
       "    .dataframe tbody tr th {\n",
       "        vertical-align: top;\n",
       "    }\n",
       "\n",
       "    .dataframe thead th {\n",
       "        text-align: right;\n",
       "    }\n",
       "</style>\n",
       "<table border=\"1\" class=\"dataframe\">\n",
       "  <thead>\n",
       "    <tr style=\"text-align: right;\">\n",
       "      <th></th>\n",
       "      <th>Item</th>\n",
       "      <th>Quantity</th>\n",
       "      <th>Color</th>\n",
       "    </tr>\n",
       "  </thead>\n",
       "  <tbody>\n",
       "    <tr>\n",
       "      <th>0</th>\n",
       "      <td>balloons</td>\n",
       "      <td>5.0</td>\n",
       "      <td>red</td>\n",
       "    </tr>\n",
       "    <tr>\n",
       "      <th>1</th>\n",
       "      <td>streamers</td>\n",
       "      <td>10.0</td>\n",
       "      <td>silver</td>\n",
       "    </tr>\n",
       "    <tr>\n",
       "      <th>2</th>\n",
       "      <td>candles</td>\n",
       "      <td>10.0</td>\n",
       "      <td>assorted</td>\n",
       "    </tr>\n",
       "  </tbody>\n",
       "</table>\n",
       "</div>"
      ],
      "text/plain": [
       "        Item  Quantity     Color\n",
       "0   balloons       5.0       red\n",
       "1  streamers      10.0    silver\n",
       "2    candles      10.0  assorted"
      ]
     },
     "execution_count": 81,
     "metadata": {},
     "output_type": "execute_result"
    }
   ],
   "source": [
    "#separate values in the 'item' column and fill in NaN fields:\n",
    "tidy_accessories = party_accessories.replace({'Item':'red balloons'}, 'balloons')\n",
    "tidy_accessories['Color'].fillna('red', limit=1, inplace=True)\n",
    "tidy_accessories = tidy_accessories.replace({'Item':'10 candles'}, 'candles')\n",
    "tidy_accessories['Quantity'].fillna(10, limit=1, inplace=True)\n",
    "\n",
    "#remove rows 3-17:\n",
    "tidy_accessories.dropna(inplace=True)\n",
    "tidy_accessories"
   ]
  },
  {
   "cell_type": "markdown",
   "id": "51d251c0",
   "metadata": {},
   "source": [
    "Finally, we need to tidy up the **venues** dataFrame:"
   ]
  },
  {
   "cell_type": "code",
   "execution_count": 86,
   "id": "6d3fb2fd",
   "metadata": {},
   "outputs": [
    {
     "data": {
      "text/html": [
       "<div>\n",
       "<style scoped>\n",
       "    .dataframe tbody tr th:only-of-type {\n",
       "        vertical-align: middle;\n",
       "    }\n",
       "\n",
       "    .dataframe tbody tr th {\n",
       "        vertical-align: top;\n",
       "    }\n",
       "\n",
       "    .dataframe thead th {\n",
       "        text-align: right;\n",
       "    }\n",
       "</style>\n",
       "<table border=\"1\" class=\"dataframe\">\n",
       "  <thead>\n",
       "    <tr style=\"text-align: right;\">\n",
       "      <th></th>\n",
       "      <th>Venue</th>\n",
       "      <th>Size</th>\n",
       "      <th>Price</th>\n",
       "    </tr>\n",
       "  </thead>\n",
       "  <tbody>\n",
       "    <tr>\n",
       "      <th>0</th>\n",
       "      <td>Wild World</td>\n",
       "      <td>4000 sq. ft.</td>\n",
       "      <td>$1,000</td>\n",
       "    </tr>\n",
       "    <tr>\n",
       "      <th>1</th>\n",
       "      <td>Fun Zone</td>\n",
       "      <td>2400  sq. ft.</td>\n",
       "      <td>$800</td>\n",
       "    </tr>\n",
       "    <tr>\n",
       "      <th>2</th>\n",
       "      <td>Party Plus</td>\n",
       "      <td>3000 sq. ft.</td>\n",
       "      <td>$900</td>\n",
       "    </tr>\n",
       "  </tbody>\n",
       "</table>\n",
       "</div>"
      ],
      "text/plain": [
       "        Venue           Size    Price\n",
       "0  Wild World   4000 sq. ft.  $1,000 \n",
       "1    Fun Zone  2400  sq. ft.    $800 \n",
       "2  Party Plus   3000 sq. ft.    $900 "
      ]
     },
     "execution_count": 86,
     "metadata": {},
     "output_type": "execute_result"
    }
   ],
   "source": [
    "#match units of measure in the 'size' column:\n",
    "fun_zone_sqft = (40 * 60)\n",
    "tidy_venues = venues.replace({'Size':\"40' x 60'\"}, (f\"{fun_zone_sqft}  sq. ft.\"))\n",
    "tidy_venues"
   ]
  },
  {
   "cell_type": "markdown",
   "id": "f4449115",
   "metadata": {},
   "source": [
    "We now have three tidy datasets that can be used for planning children's birthdays. We can easily check dates, determine the best dessert to order, and compare prices for venues based on a common unit of measure. "
   ]
  }
 ],
 "metadata": {
  "kernelspec": {
   "display_name": "Python 3 (ipykernel)",
   "language": "python",
   "name": "python3"
  },
  "language_info": {
   "codemirror_mode": {
    "name": "ipython",
    "version": 3
   },
   "file_extension": ".py",
   "mimetype": "text/x-python",
   "name": "python",
   "nbconvert_exporter": "python",
   "pygments_lexer": "ipython3",
   "version": "3.9.13"
  }
 },
 "nbformat": 4,
 "nbformat_minor": 5
}
